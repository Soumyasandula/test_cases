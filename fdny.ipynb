{
 "cells": [
  {
   "cell_type": "markdown",
   "id": "3a8e6e80",
   "metadata": {},
   "source": [
    "## view and import the dataset"
   ]
  },
  {
   "cell_type": "code",
   "execution_count": 43,
   "id": "a2e9d61c",
   "metadata": {},
   "outputs": [],
   "source": [
    "import pandas as pd\n",
    "import numpy as np"
   ]
  },
  {
   "cell_type": "code",
   "execution_count": 44,
   "id": "18c986de",
   "metadata": {},
   "outputs": [
    {
     "data": {
      "text/html": [
       "<div>\n",
       "<style scoped>\n",
       "    .dataframe tbody tr th:only-of-type {\n",
       "        vertical-align: middle;\n",
       "    }\n",
       "\n",
       "    .dataframe tbody tr th {\n",
       "        vertical-align: top;\n",
       "    }\n",
       "\n",
       "    .dataframe thead th {\n",
       "        text-align: right;\n",
       "    }\n",
       "</style>\n",
       "<table border=\"1\" class=\"dataframe\">\n",
       "  <thead>\n",
       "    <tr style=\"text-align: right;\">\n",
       "      <th></th>\n",
       "      <th>FacilityName</th>\n",
       "      <th>FacilityAddress</th>\n",
       "      <th>Borough</th>\n",
       "    </tr>\n",
       "  </thead>\n",
       "  <tbody>\n",
       "    <tr>\n",
       "      <th>0</th>\n",
       "      <td>FacilityName</td>\n",
       "      <td>FacilityAddress</td>\n",
       "      <td>Borough</td>\n",
       "    </tr>\n",
       "    <tr>\n",
       "      <th>1</th>\n",
       "      <td>Engine 4/Ladder 15</td>\n",
       "      <td>42 South Street</td>\n",
       "      <td>Manhattan</td>\n",
       "    </tr>\n",
       "    <tr>\n",
       "      <th>2</th>\n",
       "      <td>Engine 10/Ladder 10</td>\n",
       "      <td>124 Liberty Street</td>\n",
       "      <td>Manhattan</td>\n",
       "    </tr>\n",
       "    <tr>\n",
       "      <th>3</th>\n",
       "      <td>Engine 6</td>\n",
       "      <td>49 Beekman Street</td>\n",
       "      <td>Manhattan</td>\n",
       "    </tr>\n",
       "    <tr>\n",
       "      <th>4</th>\n",
       "      <td>Engine 7/Ladder 1/Battalion 1/Manhattan Boroug...</td>\n",
       "      <td>100-104 Duane Street</td>\n",
       "      <td>Manhattan</td>\n",
       "    </tr>\n",
       "    <tr>\n",
       "      <th>...</th>\n",
       "      <td>...</td>\n",
       "      <td>...</td>\n",
       "      <td>...</td>\n",
       "    </tr>\n",
       "    <tr>\n",
       "      <th>214</th>\n",
       "      <td>Engine 162/Ladder 82/Battalion 23</td>\n",
       "      <td>256 Nelson Avenue</td>\n",
       "      <td>Staten Island</td>\n",
       "    </tr>\n",
       "    <tr>\n",
       "      <th>215</th>\n",
       "      <td>Engine 167/Ladder 87</td>\n",
       "      <td>345 Annadale Road</td>\n",
       "      <td>Staten Island</td>\n",
       "    </tr>\n",
       "    <tr>\n",
       "      <th>216</th>\n",
       "      <td>Engine 164/Ladder 84</td>\n",
       "      <td>1560 Drumgoole Road West</td>\n",
       "      <td>Staten Island</td>\n",
       "    </tr>\n",
       "    <tr>\n",
       "      <th>217</th>\n",
       "      <td>Engine 168/EMS Station 23</td>\n",
       "      <td>1100 Rossville Avenue</td>\n",
       "      <td>Staten Island</td>\n",
       "    </tr>\n",
       "    <tr>\n",
       "      <th>218</th>\n",
       "      <td>Engine 151/Ladder 76</td>\n",
       "      <td>7219 Amboy Road</td>\n",
       "      <td>Staten Island</td>\n",
       "    </tr>\n",
       "  </tbody>\n",
       "</table>\n",
       "<p>219 rows × 3 columns</p>\n",
       "</div>"
      ],
      "text/plain": [
       "                                          FacilityName  \\\n",
       "0                                         FacilityName   \n",
       "1                                   Engine 4/Ladder 15   \n",
       "2                                  Engine 10/Ladder 10   \n",
       "3                                             Engine 6   \n",
       "4    Engine 7/Ladder 1/Battalion 1/Manhattan Boroug...   \n",
       "..                                                 ...   \n",
       "214                  Engine 162/Ladder 82/Battalion 23   \n",
       "215                               Engine 167/Ladder 87   \n",
       "216                               Engine 164/Ladder 84   \n",
       "217                          Engine 168/EMS Station 23   \n",
       "218                               Engine 151/Ladder 76   \n",
       "\n",
       "              FacilityAddress        Borough  \n",
       "0             FacilityAddress        Borough  \n",
       "1             42 South Street      Manhattan  \n",
       "2          124 Liberty Street      Manhattan  \n",
       "3           49 Beekman Street      Manhattan  \n",
       "4        100-104 Duane Street      Manhattan  \n",
       "..                        ...            ...  \n",
       "214         256 Nelson Avenue  Staten Island  \n",
       "215         345 Annadale Road  Staten Island  \n",
       "216  1560 Drumgoole Road West  Staten Island  \n",
       "217     1100 Rossville Avenue  Staten Island  \n",
       "218           7219 Amboy Road  Staten Island  \n",
       "\n",
       "[219 rows x 3 columns]"
      ]
     },
     "execution_count": 44,
     "metadata": {},
     "output_type": "execute_result"
    }
   ],
   "source": [
    "data=pd.read_csv(\"C:/Users/soumy/OneDrive/Desktop/aaa/14.FDNY(1).csv\",encoding='ISO-8859-1')\n",
    "data"
   ]
  },
  {
   "cell_type": "code",
   "execution_count": 45,
   "id": "aef7b5f0",
   "metadata": {},
   "outputs": [
    {
     "data": {
      "text/html": [
       "<div>\n",
       "<style scoped>\n",
       "    .dataframe tbody tr th:only-of-type {\n",
       "        vertical-align: middle;\n",
       "    }\n",
       "\n",
       "    .dataframe tbody tr th {\n",
       "        vertical-align: top;\n",
       "    }\n",
       "\n",
       "    .dataframe thead th {\n",
       "        text-align: right;\n",
       "    }\n",
       "</style>\n",
       "<table border=\"1\" class=\"dataframe\">\n",
       "  <thead>\n",
       "    <tr style=\"text-align: right;\">\n",
       "      <th></th>\n",
       "      <th>FacilityName</th>\n",
       "      <th>FacilityAddress</th>\n",
       "      <th>Borough</th>\n",
       "    </tr>\n",
       "  </thead>\n",
       "  <tbody>\n",
       "    <tr>\n",
       "      <th>1</th>\n",
       "      <td>Engine 4/Ladder 15</td>\n",
       "      <td>42 South Street</td>\n",
       "      <td>Manhattan</td>\n",
       "    </tr>\n",
       "    <tr>\n",
       "      <th>2</th>\n",
       "      <td>Engine 10/Ladder 10</td>\n",
       "      <td>124 Liberty Street</td>\n",
       "      <td>Manhattan</td>\n",
       "    </tr>\n",
       "    <tr>\n",
       "      <th>3</th>\n",
       "      <td>Engine 6</td>\n",
       "      <td>49 Beekman Street</td>\n",
       "      <td>Manhattan</td>\n",
       "    </tr>\n",
       "    <tr>\n",
       "      <th>4</th>\n",
       "      <td>Engine 7/Ladder 1/Battalion 1/Manhattan Boroug...</td>\n",
       "      <td>100-104 Duane Street</td>\n",
       "      <td>Manhattan</td>\n",
       "    </tr>\n",
       "    <tr>\n",
       "      <th>5</th>\n",
       "      <td>Ladder 8</td>\n",
       "      <td>14 North Moore Street</td>\n",
       "      <td>Manhattan</td>\n",
       "    </tr>\n",
       "    <tr>\n",
       "      <th>...</th>\n",
       "      <td>...</td>\n",
       "      <td>...</td>\n",
       "      <td>...</td>\n",
       "    </tr>\n",
       "    <tr>\n",
       "      <th>214</th>\n",
       "      <td>Engine 162/Ladder 82/Battalion 23</td>\n",
       "      <td>256 Nelson Avenue</td>\n",
       "      <td>Staten Island</td>\n",
       "    </tr>\n",
       "    <tr>\n",
       "      <th>215</th>\n",
       "      <td>Engine 167/Ladder 87</td>\n",
       "      <td>345 Annadale Road</td>\n",
       "      <td>Staten Island</td>\n",
       "    </tr>\n",
       "    <tr>\n",
       "      <th>216</th>\n",
       "      <td>Engine 164/Ladder 84</td>\n",
       "      <td>1560 Drumgoole Road West</td>\n",
       "      <td>Staten Island</td>\n",
       "    </tr>\n",
       "    <tr>\n",
       "      <th>217</th>\n",
       "      <td>Engine 168/EMS Station 23</td>\n",
       "      <td>1100 Rossville Avenue</td>\n",
       "      <td>Staten Island</td>\n",
       "    </tr>\n",
       "    <tr>\n",
       "      <th>218</th>\n",
       "      <td>Engine 151/Ladder 76</td>\n",
       "      <td>7219 Amboy Road</td>\n",
       "      <td>Staten Island</td>\n",
       "    </tr>\n",
       "  </tbody>\n",
       "</table>\n",
       "<p>218 rows × 3 columns</p>\n",
       "</div>"
      ],
      "text/plain": [
       "                                          FacilityName  \\\n",
       "1                                   Engine 4/Ladder 15   \n",
       "2                                  Engine 10/Ladder 10   \n",
       "3                                             Engine 6   \n",
       "4    Engine 7/Ladder 1/Battalion 1/Manhattan Boroug...   \n",
       "5                                             Ladder 8   \n",
       "..                                                 ...   \n",
       "214                  Engine 162/Ladder 82/Battalion 23   \n",
       "215                               Engine 167/Ladder 87   \n",
       "216                               Engine 164/Ladder 84   \n",
       "217                          Engine 168/EMS Station 23   \n",
       "218                               Engine 151/Ladder 76   \n",
       "\n",
       "              FacilityAddress        Borough  \n",
       "1             42 South Street      Manhattan  \n",
       "2          124 Liberty Street      Manhattan  \n",
       "3           49 Beekman Street      Manhattan  \n",
       "4        100-104 Duane Street      Manhattan  \n",
       "5       14 North Moore Street      Manhattan  \n",
       "..                        ...            ...  \n",
       "214         256 Nelson Avenue  Staten Island  \n",
       "215         345 Annadale Road  Staten Island  \n",
       "216  1560 Drumgoole Road West  Staten Island  \n",
       "217     1100 Rossville Avenue  Staten Island  \n",
       "218           7219 Amboy Road  Staten Island  \n",
       "\n",
       "[218 rows x 3 columns]"
      ]
     },
     "execution_count": 45,
     "metadata": {},
     "output_type": "execute_result"
    }
   ],
   "source": [
    "data = data.drop(labels=0,axis=0)\n",
    "data"
   ]
  },
  {
   "cell_type": "markdown",
   "id": "4f3cd2b0",
   "metadata": {},
   "source": [
    "## analyse the data"
   ]
  },
  {
   "cell_type": "code",
   "execution_count": 46,
   "id": "8b847826",
   "metadata": {},
   "outputs": [
    {
     "name": "stdout",
     "output_type": "stream",
     "text": [
      "<class 'pandas.core.frame.DataFrame'>\n",
      "RangeIndex: 218 entries, 1 to 218\n",
      "Data columns (total 3 columns):\n",
      " #   Column           Non-Null Count  Dtype \n",
      "---  ------           --------------  ----- \n",
      " 0   FacilityName     218 non-null    object\n",
      " 1   FacilityAddress  218 non-null    object\n",
      " 2   Borough          218 non-null    object\n",
      "dtypes: object(3)\n",
      "memory usage: 5.2+ KB\n"
     ]
    }
   ],
   "source": [
    "data.info()"
   ]
  },
  {
   "cell_type": "code",
   "execution_count": 47,
   "id": "f8aa1982",
   "metadata": {},
   "outputs": [
    {
     "data": {
      "text/html": [
       "<div>\n",
       "<style scoped>\n",
       "    .dataframe tbody tr th:only-of-type {\n",
       "        vertical-align: middle;\n",
       "    }\n",
       "\n",
       "    .dataframe tbody tr th {\n",
       "        vertical-align: top;\n",
       "    }\n",
       "\n",
       "    .dataframe thead th {\n",
       "        text-align: right;\n",
       "    }\n",
       "</style>\n",
       "<table border=\"1\" class=\"dataframe\">\n",
       "  <thead>\n",
       "    <tr style=\"text-align: right;\">\n",
       "      <th></th>\n",
       "      <th>FacilityName</th>\n",
       "      <th>FacilityAddress</th>\n",
       "      <th>Borough</th>\n",
       "    </tr>\n",
       "  </thead>\n",
       "  <tbody>\n",
       "    <tr>\n",
       "      <th>1</th>\n",
       "      <td>Engine 4/Ladder 15</td>\n",
       "      <td>42 South Street</td>\n",
       "      <td>Manhattan</td>\n",
       "    </tr>\n",
       "    <tr>\n",
       "      <th>2</th>\n",
       "      <td>Engine 10/Ladder 10</td>\n",
       "      <td>124 Liberty Street</td>\n",
       "      <td>Manhattan</td>\n",
       "    </tr>\n",
       "    <tr>\n",
       "      <th>3</th>\n",
       "      <td>Engine 6</td>\n",
       "      <td>49 Beekman Street</td>\n",
       "      <td>Manhattan</td>\n",
       "    </tr>\n",
       "    <tr>\n",
       "      <th>4</th>\n",
       "      <td>Engine 7/Ladder 1/Battalion 1/Manhattan Boroug...</td>\n",
       "      <td>100-104 Duane Street</td>\n",
       "      <td>Manhattan</td>\n",
       "    </tr>\n",
       "    <tr>\n",
       "      <th>5</th>\n",
       "      <td>Ladder 8</td>\n",
       "      <td>14 North Moore Street</td>\n",
       "      <td>Manhattan</td>\n",
       "    </tr>\n",
       "  </tbody>\n",
       "</table>\n",
       "</div>"
      ],
      "text/plain": [
       "                                        FacilityName        FacilityAddress  \\\n",
       "1                                 Engine 4/Ladder 15        42 South Street   \n",
       "2                                Engine 10/Ladder 10     124 Liberty Street   \n",
       "3                                           Engine 6      49 Beekman Street   \n",
       "4  Engine 7/Ladder 1/Battalion 1/Manhattan Boroug...   100-104 Duane Street   \n",
       "5                                           Ladder 8  14 North Moore Street   \n",
       "\n",
       "     Borough  \n",
       "1  Manhattan  \n",
       "2  Manhattan  \n",
       "3  Manhattan  \n",
       "4  Manhattan  \n",
       "5  Manhattan  "
      ]
     },
     "execution_count": 47,
     "metadata": {},
     "output_type": "execute_result"
    }
   ],
   "source": [
    "head_rows=data.head(5)\n",
    "head_rows"
   ]
  },
  {
   "cell_type": "code",
   "execution_count": 48,
   "id": "dcf384b1",
   "metadata": {},
   "outputs": [
    {
     "data": {
      "text/html": [
       "<div>\n",
       "<style scoped>\n",
       "    .dataframe tbody tr th:only-of-type {\n",
       "        vertical-align: middle;\n",
       "    }\n",
       "\n",
       "    .dataframe tbody tr th {\n",
       "        vertical-align: top;\n",
       "    }\n",
       "\n",
       "    .dataframe thead th {\n",
       "        text-align: right;\n",
       "    }\n",
       "</style>\n",
       "<table border=\"1\" class=\"dataframe\">\n",
       "  <thead>\n",
       "    <tr style=\"text-align: right;\">\n",
       "      <th></th>\n",
       "      <th>FacilityName</th>\n",
       "      <th>FacilityAddress</th>\n",
       "      <th>Borough</th>\n",
       "    </tr>\n",
       "  </thead>\n",
       "  <tbody>\n",
       "    <tr>\n",
       "      <th>1</th>\n",
       "      <td>Engine 4/Ladder 15</td>\n",
       "      <td>42 South Street</td>\n",
       "      <td>Manhattan</td>\n",
       "    </tr>\n",
       "    <tr>\n",
       "      <th>2</th>\n",
       "      <td>Engine 10/Ladder 10</td>\n",
       "      <td>124 Liberty Street</td>\n",
       "      <td>Manhattan</td>\n",
       "    </tr>\n",
       "    <tr>\n",
       "      <th>3</th>\n",
       "      <td>Engine 6</td>\n",
       "      <td>49 Beekman Street</td>\n",
       "      <td>Manhattan</td>\n",
       "    </tr>\n",
       "    <tr>\n",
       "      <th>4</th>\n",
       "      <td>Engine 7/Ladder 1/Battalion 1/Manhattan Boroug...</td>\n",
       "      <td>100-104 Duane Street</td>\n",
       "      <td>Manhattan</td>\n",
       "    </tr>\n",
       "    <tr>\n",
       "      <th>5</th>\n",
       "      <td>Ladder 8</td>\n",
       "      <td>14 North Moore Street</td>\n",
       "      <td>Manhattan</td>\n",
       "    </tr>\n",
       "    <tr>\n",
       "      <th>...</th>\n",
       "      <td>...</td>\n",
       "      <td>...</td>\n",
       "      <td>...</td>\n",
       "    </tr>\n",
       "    <tr>\n",
       "      <th>214</th>\n",
       "      <td>Engine 162/Ladder 82/Battalion 23</td>\n",
       "      <td>256 Nelson Avenue</td>\n",
       "      <td>Staten Island</td>\n",
       "    </tr>\n",
       "    <tr>\n",
       "      <th>215</th>\n",
       "      <td>Engine 167/Ladder 87</td>\n",
       "      <td>345 Annadale Road</td>\n",
       "      <td>Staten Island</td>\n",
       "    </tr>\n",
       "    <tr>\n",
       "      <th>216</th>\n",
       "      <td>Engine 164/Ladder 84</td>\n",
       "      <td>1560 Drumgoole Road West</td>\n",
       "      <td>Staten Island</td>\n",
       "    </tr>\n",
       "    <tr>\n",
       "      <th>217</th>\n",
       "      <td>Engine 168/EMS Station 23</td>\n",
       "      <td>1100 Rossville Avenue</td>\n",
       "      <td>Staten Island</td>\n",
       "    </tr>\n",
       "    <tr>\n",
       "      <th>218</th>\n",
       "      <td>Engine 151/Ladder 76</td>\n",
       "      <td>7219 Amboy Road</td>\n",
       "      <td>Staten Island</td>\n",
       "    </tr>\n",
       "  </tbody>\n",
       "</table>\n",
       "<p>218 rows × 3 columns</p>\n",
       "</div>"
      ],
      "text/plain": [
       "                                          FacilityName  \\\n",
       "1                                   Engine 4/Ladder 15   \n",
       "2                                  Engine 10/Ladder 10   \n",
       "3                                             Engine 6   \n",
       "4    Engine 7/Ladder 1/Battalion 1/Manhattan Boroug...   \n",
       "5                                             Ladder 8   \n",
       "..                                                 ...   \n",
       "214                  Engine 162/Ladder 82/Battalion 23   \n",
       "215                               Engine 167/Ladder 87   \n",
       "216                               Engine 164/Ladder 84   \n",
       "217                          Engine 168/EMS Station 23   \n",
       "218                               Engine 151/Ladder 76   \n",
       "\n",
       "              FacilityAddress        Borough  \n",
       "1             42 South Street      Manhattan  \n",
       "2          124 Liberty Street      Manhattan  \n",
       "3           49 Beekman Street      Manhattan  \n",
       "4        100-104 Duane Street      Manhattan  \n",
       "5       14 North Moore Street      Manhattan  \n",
       "..                        ...            ...  \n",
       "214         256 Nelson Avenue  Staten Island  \n",
       "215         345 Annadale Road  Staten Island  \n",
       "216  1560 Drumgoole Road West  Staten Island  \n",
       "217     1100 Rossville Avenue  Staten Island  \n",
       "218           7219 Amboy Road  Staten Island  \n",
       "\n",
       "[218 rows x 3 columns]"
      ]
     },
     "execution_count": 48,
     "metadata": {},
     "output_type": "execute_result"
    }
   ],
   "source": [
    "data.drop_duplicates()"
   ]
  },
  {
   "cell_type": "code",
   "execution_count": 49,
   "id": "b8c6c54a",
   "metadata": {},
   "outputs": [
    {
     "data": {
      "text/html": [
       "<div>\n",
       "<style scoped>\n",
       "    .dataframe tbody tr th:only-of-type {\n",
       "        vertical-align: middle;\n",
       "    }\n",
       "\n",
       "    .dataframe tbody tr th {\n",
       "        vertical-align: top;\n",
       "    }\n",
       "\n",
       "    .dataframe thead th {\n",
       "        text-align: right;\n",
       "    }\n",
       "</style>\n",
       "<table border=\"1\" class=\"dataframe\">\n",
       "  <thead>\n",
       "    <tr style=\"text-align: right;\">\n",
       "      <th></th>\n",
       "      <th>FacilityName</th>\n",
       "      <th>FacilityAddress</th>\n",
       "      <th>Borough</th>\n",
       "    </tr>\n",
       "  </thead>\n",
       "  <tbody>\n",
       "    <tr>\n",
       "      <th>count</th>\n",
       "      <td>218</td>\n",
       "      <td>218</td>\n",
       "      <td>218</td>\n",
       "    </tr>\n",
       "    <tr>\n",
       "      <th>unique</th>\n",
       "      <td>218</td>\n",
       "      <td>218</td>\n",
       "      <td>5</td>\n",
       "    </tr>\n",
       "    <tr>\n",
       "      <th>top</th>\n",
       "      <td>Engine 4/Ladder 15</td>\n",
       "      <td>42 South Street</td>\n",
       "      <td>Brooklyn</td>\n",
       "    </tr>\n",
       "    <tr>\n",
       "      <th>freq</th>\n",
       "      <td>1</td>\n",
       "      <td>1</td>\n",
       "      <td>66</td>\n",
       "    </tr>\n",
       "  </tbody>\n",
       "</table>\n",
       "</div>"
      ],
      "text/plain": [
       "              FacilityName  FacilityAddress   Borough\n",
       "count                  218              218       218\n",
       "unique                 218              218         5\n",
       "top     Engine 4/Ladder 15  42 South Street  Brooklyn\n",
       "freq                     1                1        66"
      ]
     },
     "execution_count": 49,
     "metadata": {},
     "output_type": "execute_result"
    }
   ],
   "source": [
    "data.describe()"
   ]
  },
  {
   "cell_type": "code",
   "execution_count": 50,
   "id": "9b8fbe74",
   "metadata": {},
   "outputs": [
    {
     "data": {
      "text/plain": [
       "Index(['FacilityName', 'FacilityAddress', 'Borough'], dtype='object')"
      ]
     },
     "execution_count": 50,
     "metadata": {},
     "output_type": "execute_result"
    }
   ],
   "source": [
    "data.columns"
   ]
  },
  {
   "cell_type": "code",
   "execution_count": 51,
   "id": "ddee7723",
   "metadata": {},
   "outputs": [
    {
     "data": {
      "text/plain": [
       "RangeIndex(start=1, stop=219, step=1)"
      ]
     },
     "execution_count": 51,
     "metadata": {},
     "output_type": "execute_result"
    }
   ],
   "source": [
    "data.index"
   ]
  },
  {
   "cell_type": "markdown",
   "id": "efe9efae",
   "metadata": {},
   "source": [
    "## total number of depertment facilities in new york"
   ]
  },
  {
   "cell_type": "code",
   "execution_count": 52,
   "id": "5d97d617",
   "metadata": {},
   "outputs": [
    {
     "data": {
      "text/plain": [
       "218"
      ]
     },
     "execution_count": 52,
     "metadata": {},
     "output_type": "execute_result"
    }
   ],
   "source": [
    "len(data['Borough'])"
   ]
  },
  {
   "cell_type": "code",
   "execution_count": 53,
   "id": "ef4e18c1",
   "metadata": {},
   "outputs": [
    {
     "data": {
      "text/plain": [
       "218"
      ]
     },
     "execution_count": 53,
     "metadata": {},
     "output_type": "execute_result"
    }
   ],
   "source": [
    "len(data['FacilityName'])"
   ]
  },
  {
   "cell_type": "code",
   "execution_count": 54,
   "id": "8ddd54a9",
   "metadata": {},
   "outputs": [
    {
     "data": {
      "text/plain": [
       "218"
      ]
     },
     "execution_count": 54,
     "metadata": {},
     "output_type": "execute_result"
    }
   ],
   "source": [
    "len(data['FacilityAddress'])"
   ]
  },
  {
   "cell_type": "code",
   "execution_count": 55,
   "id": "2170c4ca",
   "metadata": {},
   "outputs": [
    {
     "data": {
      "text/plain": [
       "FacilityName       object\n",
       "FacilityAddress    object\n",
       "Borough            object\n",
       "dtype: object"
      ]
     },
     "execution_count": 55,
     "metadata": {},
     "output_type": "execute_result"
    }
   ],
   "source": [
    "data.dtypes"
   ]
  },
  {
   "cell_type": "markdown",
   "id": "d3e1082f",
   "metadata": {},
   "source": [
    "# total number of fire departments facilities in New York"
   ]
  },
  {
   "cell_type": "code",
   "execution_count": 56,
   "id": "d69dfe10",
   "metadata": {},
   "outputs": [
    {
     "data": {
      "text/html": [
       "<div>\n",
       "<style scoped>\n",
       "    .dataframe tbody tr th:only-of-type {\n",
       "        vertical-align: middle;\n",
       "    }\n",
       "\n",
       "    .dataframe tbody tr th {\n",
       "        vertical-align: top;\n",
       "    }\n",
       "\n",
       "    .dataframe thead th {\n",
       "        text-align: right;\n",
       "    }\n",
       "</style>\n",
       "<table border=\"1\" class=\"dataframe\">\n",
       "  <thead>\n",
       "    <tr style=\"text-align: right;\">\n",
       "      <th></th>\n",
       "      <th>FacilityName</th>\n",
       "      <th>FacilityAddress</th>\n",
       "      <th>Borough</th>\n",
       "    </tr>\n",
       "  </thead>\n",
       "  <tbody>\n",
       "    <tr>\n",
       "      <th>50</th>\n",
       "      <td>Squad 41</td>\n",
       "      <td>330 East 150th Street</td>\n",
       "      <td>Bronx</td>\n",
       "    </tr>\n",
       "    <tr>\n",
       "      <th>72</th>\n",
       "      <td>Engine 64/Ladder 47/District Office 7</td>\n",
       "      <td>1214 Castle Hill Avenue</td>\n",
       "      <td>Bronx</td>\n",
       "    </tr>\n",
       "    <tr>\n",
       "      <th>71</th>\n",
       "      <td>Engine 96/Ladder 54</td>\n",
       "      <td>1689 Story Avenue</td>\n",
       "      <td>Bronx</td>\n",
       "    </tr>\n",
       "    <tr>\n",
       "      <th>70</th>\n",
       "      <td>Engine 79/Ladder 37/Battalion 27</td>\n",
       "      <td>2928 Briggs Avenue</td>\n",
       "      <td>Bronx</td>\n",
       "    </tr>\n",
       "    <tr>\n",
       "      <th>69</th>\n",
       "      <td>Engine 81/Ladder 46</td>\n",
       "      <td>3025 Bailey Avenue</td>\n",
       "      <td>Bronx</td>\n",
       "    </tr>\n",
       "    <tr>\n",
       "      <th>...</th>\n",
       "      <td>...</td>\n",
       "      <td>...</td>\n",
       "      <td>...</td>\n",
       "    </tr>\n",
       "    <tr>\n",
       "      <th>200</th>\n",
       "      <td>Engine 155/Ladder 78</td>\n",
       "      <td>14 Brighton Avenue</td>\n",
       "      <td>Staten Island</td>\n",
       "    </tr>\n",
       "    <tr>\n",
       "      <th>199</th>\n",
       "      <td>Marine 9</td>\n",
       "      <td>Saint George Ferry Terminal</td>\n",
       "      <td>Staten Island</td>\n",
       "    </tr>\n",
       "    <tr>\n",
       "      <th>217</th>\n",
       "      <td>Engine 168/EMS Station 23</td>\n",
       "      <td>1100 Rossville Avenue</td>\n",
       "      <td>Staten Island</td>\n",
       "    </tr>\n",
       "    <tr>\n",
       "      <th>207</th>\n",
       "      <td>Engine 158</td>\n",
       "      <td>65 Harbor Road</td>\n",
       "      <td>Staten Island</td>\n",
       "    </tr>\n",
       "    <tr>\n",
       "      <th>218</th>\n",
       "      <td>Engine 151/Ladder 76</td>\n",
       "      <td>7219 Amboy Road</td>\n",
       "      <td>Staten Island</td>\n",
       "    </tr>\n",
       "  </tbody>\n",
       "</table>\n",
       "<p>218 rows × 3 columns</p>\n",
       "</div>"
      ],
      "text/plain": [
       "                              FacilityName              FacilityAddress  \\\n",
       "50                                Squad 41        330 East 150th Street   \n",
       "72   Engine 64/Ladder 47/District Office 7      1214 Castle Hill Avenue   \n",
       "71                     Engine 96/Ladder 54            1689 Story Avenue   \n",
       "70        Engine 79/Ladder 37/Battalion 27           2928 Briggs Avenue   \n",
       "69                     Engine 81/Ladder 46           3025 Bailey Avenue   \n",
       "..                                     ...                          ...   \n",
       "200                   Engine 155/Ladder 78           14 Brighton Avenue   \n",
       "199                               Marine 9  Saint George Ferry Terminal   \n",
       "217              Engine 168/EMS Station 23        1100 Rossville Avenue   \n",
       "207                             Engine 158               65 Harbor Road   \n",
       "218                   Engine 151/Ladder 76              7219 Amboy Road   \n",
       "\n",
       "           Borough  \n",
       "50           Bronx  \n",
       "72           Bronx  \n",
       "71           Bronx  \n",
       "70           Bronx  \n",
       "69           Bronx  \n",
       "..             ...  \n",
       "200  Staten Island  \n",
       "199  Staten Island  \n",
       "217  Staten Island  \n",
       "207  Staten Island  \n",
       "218  Staten Island  \n",
       "\n",
       "[218 rows x 3 columns]"
      ]
     },
     "execution_count": 56,
     "metadata": {},
     "output_type": "execute_result"
    }
   ],
   "source": [
    "data.sort_values('Borough')"
   ]
  },
  {
   "cell_type": "code",
   "execution_count": 66,
   "id": "7630ad32",
   "metadata": {},
   "outputs": [
    {
     "name": "stdout",
     "output_type": "stream",
     "text": [
      "<class 'pandas.core.series.Series'>\n",
      "RangeIndex: 218 entries, 1 to 218\n",
      "Series name: Borough\n",
      "Non-Null Count  Dtype \n",
      "--------------  ----- \n",
      "218 non-null    object\n",
      "dtypes: object(1)\n",
      "memory usage: 1.8+ KB\n"
     ]
    }
   ],
   "source": [
    "data.Borough.info()"
   ]
  },
  {
   "cell_type": "code",
   "execution_count": 67,
   "id": "75228e10",
   "metadata": {},
   "outputs": [
    {
     "data": {
      "text/plain": [
       "1       True\n",
       "2       True\n",
       "3       True\n",
       "4       True\n",
       "5       True\n",
       "       ...  \n",
       "214    False\n",
       "215    False\n",
       "216    False\n",
       "217    False\n",
       "218    False\n",
       "Name: Borough, Length: 218, dtype: bool"
      ]
     },
     "execution_count": 67,
     "metadata": {},
     "output_type": "execute_result"
    }
   ],
   "source": [
    "data.Borough==\"Manhattan\""
   ]
  },
  {
   "cell_type": "markdown",
   "id": "2363cd58",
   "metadata": {},
   "source": []
  },
  {
   "cell_type": "code",
   "execution_count": null,
   "id": "38c1bac7",
   "metadata": {},
   "outputs": [],
   "source": []
  }
 ],
 "metadata": {
  "kernelspec": {
   "display_name": "Python 3 (ipykernel)",
   "language": "python",
   "name": "python3"
  },
  "language_info": {
   "codemirror_mode": {
    "name": "ipython",
    "version": 3
   },
   "file_extension": ".py",
   "mimetype": "text/x-python",
   "name": "python",
   "nbconvert_exporter": "python",
   "pygments_lexer": "ipython3",
   "version": "3.11.4"
  }
 },
 "nbformat": 4,
 "nbformat_minor": 5
}
